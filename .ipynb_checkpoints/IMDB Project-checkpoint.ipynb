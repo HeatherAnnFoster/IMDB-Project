{
 "cells": [
  {
   "cell_type": "markdown",
   "id": "ad9417e0",
   "metadata": {},
   "source": [
    "# Imported Libraries for Data Analysis"
   ]
  },
  {
   "cell_type": "code",
   "execution_count": 1,
   "id": "87523f8c",
   "metadata": {},
   "outputs": [],
   "source": [
    "import pandas as pd\n",
    "import numpy as np"
   ]
  },
  {
   "cell_type": "markdown",
   "id": "9d0a27a4",
   "metadata": {},
   "source": [
    "# The Basics Database from the IMDB webside.\n",
    "A section of this database is shown below to illustrate the names of the columns and rows within the database."
   ]
  },
  {
   "cell_type": "code",
   "execution_count": 2,
   "id": "5f1d78d6",
   "metadata": {},
   "outputs": [
    {
     "data": {
      "text/html": [
       "<div>\n",
       "<style scoped>\n",
       "    .dataframe tbody tr th:only-of-type {\n",
       "        vertical-align: middle;\n",
       "    }\n",
       "\n",
       "    .dataframe tbody tr th {\n",
       "        vertical-align: top;\n",
       "    }\n",
       "\n",
       "    .dataframe thead th {\n",
       "        text-align: right;\n",
       "    }\n",
       "</style>\n",
       "<table border=\"1\" class=\"dataframe\">\n",
       "  <thead>\n",
       "    <tr style=\"text-align: right;\">\n",
       "      <th></th>\n",
       "      <th>tconst</th>\n",
       "      <th>titleType</th>\n",
       "      <th>primaryTitle</th>\n",
       "      <th>originalTitle</th>\n",
       "      <th>isAdult</th>\n",
       "      <th>startYear</th>\n",
       "      <th>endYear</th>\n",
       "      <th>runtimeMinutes</th>\n",
       "      <th>genres</th>\n",
       "    </tr>\n",
       "  </thead>\n",
       "  <tbody>\n",
       "    <tr>\n",
       "      <th>0</th>\n",
       "      <td>tt0000001</td>\n",
       "      <td>short</td>\n",
       "      <td>Carmencita</td>\n",
       "      <td>Carmencita</td>\n",
       "      <td>0</td>\n",
       "      <td>1894</td>\n",
       "      <td>\\N</td>\n",
       "      <td>1</td>\n",
       "      <td>Documentary,Short</td>\n",
       "    </tr>\n",
       "    <tr>\n",
       "      <th>1</th>\n",
       "      <td>tt0000002</td>\n",
       "      <td>short</td>\n",
       "      <td>Le clown et ses chiens</td>\n",
       "      <td>Le clown et ses chiens</td>\n",
       "      <td>0</td>\n",
       "      <td>1892</td>\n",
       "      <td>\\N</td>\n",
       "      <td>5</td>\n",
       "      <td>Animation,Short</td>\n",
       "    </tr>\n",
       "    <tr>\n",
       "      <th>2</th>\n",
       "      <td>tt0000003</td>\n",
       "      <td>short</td>\n",
       "      <td>Pauvre Pierrot</td>\n",
       "      <td>Pauvre Pierrot</td>\n",
       "      <td>0</td>\n",
       "      <td>1892</td>\n",
       "      <td>\\N</td>\n",
       "      <td>4</td>\n",
       "      <td>Animation,Comedy,Romance</td>\n",
       "    </tr>\n",
       "    <tr>\n",
       "      <th>3</th>\n",
       "      <td>tt0000004</td>\n",
       "      <td>short</td>\n",
       "      <td>Un bon bock</td>\n",
       "      <td>Un bon bock</td>\n",
       "      <td>0</td>\n",
       "      <td>1892</td>\n",
       "      <td>\\N</td>\n",
       "      <td>12</td>\n",
       "      <td>Animation,Short</td>\n",
       "    </tr>\n",
       "    <tr>\n",
       "      <th>4</th>\n",
       "      <td>tt0000005</td>\n",
       "      <td>short</td>\n",
       "      <td>Blacksmith Scene</td>\n",
       "      <td>Blacksmith Scene</td>\n",
       "      <td>0</td>\n",
       "      <td>1893</td>\n",
       "      <td>\\N</td>\n",
       "      <td>1</td>\n",
       "      <td>Comedy,Short</td>\n",
       "    </tr>\n",
       "  </tbody>\n",
       "</table>\n",
       "</div>"
      ],
      "text/plain": [
       "      tconst titleType            primaryTitle           originalTitle  \\\n",
       "0  tt0000001     short              Carmencita              Carmencita   \n",
       "1  tt0000002     short  Le clown et ses chiens  Le clown et ses chiens   \n",
       "2  tt0000003     short          Pauvre Pierrot          Pauvre Pierrot   \n",
       "3  tt0000004     short             Un bon bock             Un bon bock   \n",
       "4  tt0000005     short        Blacksmith Scene        Blacksmith Scene   \n",
       "\n",
       "  isAdult startYear endYear runtimeMinutes                    genres  \n",
       "0       0      1894      \\N              1         Documentary,Short  \n",
       "1       0      1892      \\N              5           Animation,Short  \n",
       "2       0      1892      \\N              4  Animation,Comedy,Romance  \n",
       "3       0      1892      \\N             12           Animation,Short  \n",
       "4       0      1893      \\N              1              Comedy,Short  "
      ]
     },
     "execution_count": 2,
     "metadata": {},
     "output_type": "execute_result"
    }
   ],
   "source": [
    "basics_url=\"https://datasets.imdbws.com/title.basics.tsv.gz\"\n",
    "basics = pd.read_csv(basics_url, sep='\\t', low_memory=False)\n",
    "basics.head()"
   ]
  },
  {
   "cell_type": "markdown",
   "id": "6154e9eb",
   "metadata": {},
   "source": [
    "# Information\n",
    "This information shows the data type that is located in the database.\n",
    "It shows the names of the columns.\n",
    "The shape of the database is 9,906,183 rows and 9 columns.\n",
    "There are no duplicated columns.\n",
    "There are 37 values that are N/A.  Those were taken care of and replaced so that the data would be used correctly in the analysis."
   ]
  },
  {
   "cell_type": "code",
   "execution_count": 3,
   "id": "bffe2358",
   "metadata": {},
   "outputs": [
    {
     "name": "stdout",
     "output_type": "stream",
     "text": [
      "<class 'pandas.core.frame.DataFrame'>\n",
      "RangeIndex: 9925060 entries, 0 to 9925059\n",
      "Data columns (total 9 columns):\n",
      " #   Column          Dtype \n",
      "---  ------          ----- \n",
      " 0   tconst          object\n",
      " 1   titleType       object\n",
      " 2   primaryTitle    object\n",
      " 3   originalTitle   object\n",
      " 4   isAdult         object\n",
      " 5   startYear       object\n",
      " 6   endYear         object\n",
      " 7   runtimeMinutes  object\n",
      " 8   genres          object\n",
      "dtypes: object(9)\n",
      "memory usage: 681.5+ MB\n"
     ]
    }
   ],
   "source": [
    "basics.info()"
   ]
  },
  {
   "cell_type": "code",
   "execution_count": 4,
   "id": "77fa2af5",
   "metadata": {},
   "outputs": [
    {
     "data": {
      "text/plain": [
       "(9925060, 9)"
      ]
     },
     "execution_count": 4,
     "metadata": {},
     "output_type": "execute_result"
    }
   ],
   "source": [
    "basics.shape"
   ]
  },
  {
   "cell_type": "code",
   "execution_count": 5,
   "id": "97e49c12",
   "metadata": {},
   "outputs": [
    {
     "data": {
      "text/plain": [
       "0"
      ]
     },
     "execution_count": 5,
     "metadata": {},
     "output_type": "execute_result"
    }
   ],
   "source": [
    "basics.duplicated().sum()"
   ]
  },
  {
   "cell_type": "code",
   "execution_count": 6,
   "id": "68cb94bd",
   "metadata": {},
   "outputs": [
    {
     "data": {
      "text/plain": [
       "37"
      ]
     },
     "execution_count": 6,
     "metadata": {},
     "output_type": "execute_result"
    }
   ],
   "source": [
    "basics.isna().sum().sum()"
   ]
  },
  {
   "cell_type": "code",
   "execution_count": 7,
   "id": "768867b0",
   "metadata": {},
   "outputs": [],
   "source": [
    "basics.replace({'\\\\N':np.nan}, inplace = True)"
   ]
  },
  {
   "cell_type": "markdown",
   "id": "5f70ff86",
   "metadata": {},
   "source": [
    "# Value Counts\n",
    "This was used to show how many movies are in each time frame of the movie."
   ]
  },
  {
   "cell_type": "code",
   "execution_count": 8,
   "id": "e3c63736",
   "metadata": {},
   "outputs": [
    {
     "data": {
      "text/plain": [
       "30      220006\n",
       "60      167810\n",
       "22      164968\n",
       "15       81921\n",
       "44       76053\n",
       "         ...  \n",
       "456          1\n",
       "736          1\n",
       "529          1\n",
       "673          1\n",
       "2088         1\n",
       "Name: runtimeMinutes, Length: 890, dtype: int64"
      ]
     },
     "execution_count": 8,
     "metadata": {},
     "output_type": "execute_result"
    }
   ],
   "source": [
    "basics['runtimeMinutes'].value_counts()"
   ]
  },
  {
   "cell_type": "markdown",
   "id": "259e3117",
   "metadata": {},
   "source": [
    "# Dropped Columns\n",
    "The runtumeMinutes column was dropped.\n",
    "The genres column was dropped."
   ]
  },
  {
   "cell_type": "code",
   "execution_count": 9,
   "id": "e13999ea",
   "metadata": {},
   "outputs": [
    {
     "data": {
      "text/plain": [
       "tconst                  0\n",
       "titleType               0\n",
       "primaryTitle            1\n",
       "originalTitle           1\n",
       "isAdult                 1\n",
       "startYear          173814\n",
       "endYear           2886950\n",
       "runtimeMinutes          0\n",
       "genres              76737\n",
       "dtype: int64"
      ]
     },
     "execution_count": 9,
     "metadata": {},
     "output_type": "execute_result"
    }
   ],
   "source": [
    "basics.dropna(subset= ['runtimeMinutes'], inplace=True)\n",
    "basics.isna().sum()"
   ]
  },
  {
   "cell_type": "code",
   "execution_count": 10,
   "id": "a4a265cd",
   "metadata": {},
   "outputs": [
    {
     "data": {
      "text/plain": [
       "tconst                  0\n",
       "titleType               0\n",
       "primaryTitle            1\n",
       "originalTitle           1\n",
       "isAdult                 0\n",
       "startYear          168882\n",
       "endYear           2811810\n",
       "runtimeMinutes          0\n",
       "genres                  0\n",
       "dtype: int64"
      ]
     },
     "execution_count": 10,
     "metadata": {},
     "output_type": "execute_result"
    }
   ],
   "source": [
    "basics.dropna(subset= ['genres'], inplace=True)\n",
    "basics.isna().sum()"
   ]
  },
  {
   "cell_type": "markdown",
   "id": "668fa614",
   "metadata": {},
   "source": [
    "# Value Counts\n",
    "The value counts of the title type is listed below."
   ]
  },
  {
   "cell_type": "code",
   "execution_count": 11,
   "id": "c6eac67d",
   "metadata": {},
   "outputs": [
    {
     "data": {
      "text/plain": [
       "tvEpisode       1465640\n",
       "short            604156\n",
       "movie            383743\n",
       "video            181238\n",
       "tvMovie           91996\n",
       "tvSeries          90897\n",
       "tvSpecial         18319\n",
       "tvMiniSeries      17325\n",
       "tvShort            8689\n",
       "videoGame           322\n",
       "Name: titleType, dtype: int64"
      ]
     },
     "execution_count": 11,
     "metadata": {},
     "output_type": "execute_result"
    }
   ],
   "source": [
    "basics['titleType'].value_counts()"
   ]
  },
  {
   "cell_type": "markdown",
   "id": "842a239f",
   "metadata": {},
   "source": [
    "# Formation\n",
    "The data is formed into variables that are needed to complete the analysis."
   ]
  },
  {
   "cell_type": "code",
   "execution_count": 12,
   "id": "b9b82d28",
   "metadata": {},
   "outputs": [],
   "source": [
    "basics['titleType']=='movie'\n",
    "FLMovie = basics['titleType']=='movie'"
   ]
  },
  {
   "cell_type": "code",
   "execution_count": 13,
   "id": "bb6f37c3",
   "metadata": {},
   "outputs": [],
   "source": [
    "basics.loc[FLMovie,:]\n",
    "basics = basics.loc[FLMovie,:]"
   ]
  },
  {
   "cell_type": "code",
   "execution_count": 14,
   "id": "4cb03d79",
   "metadata": {},
   "outputs": [
    {
     "name": "stdout",
     "output_type": "stream",
     "text": [
      "<class 'pandas.core.frame.DataFrame'>\n",
      "Int64Index: 383743 entries, 8 to 9925010\n",
      "Data columns (total 9 columns):\n",
      " #   Column          Non-Null Count   Dtype \n",
      "---  ------          --------------   ----- \n",
      " 0   tconst          383743 non-null  object\n",
      " 1   titleType       383743 non-null  object\n",
      " 2   primaryTitle    383743 non-null  object\n",
      " 3   originalTitle   383743 non-null  object\n",
      " 4   isAdult         383743 non-null  object\n",
      " 5   startYear       377268 non-null  object\n",
      " 6   endYear         0 non-null       object\n",
      " 7   runtimeMinutes  383743 non-null  object\n",
      " 8   genres          383743 non-null  object\n",
      "dtypes: object(9)\n",
      "memory usage: 29.3+ MB\n"
     ]
    }
   ],
   "source": [
    "basics.info()"
   ]
  },
  {
   "cell_type": "code",
   "execution_count": 15,
   "id": "d1346010",
   "metadata": {},
   "outputs": [
    {
     "data": {
      "text/plain": [
       "2017    14384.0\n",
       "2018    14346.0\n",
       "2019    14100.0\n",
       "2016    13965.0\n",
       "2015    13479.0\n",
       "         ...   \n",
       "1899        1.0\n",
       "1904        1.0\n",
       "1897        1.0\n",
       "1896        1.0\n",
       "1894        1.0\n",
       "Name: startYear, Length: 130, dtype: float64"
      ]
     },
     "execution_count": 15,
     "metadata": {},
     "output_type": "execute_result"
    }
   ],
   "source": [
    "#year  change to a float- .astype(float)\n",
    "basics['startYear'].value_counts().astype(float)"
   ]
  },
  {
   "cell_type": "markdown",
   "id": "014d8b8e",
   "metadata": {},
   "source": [
    "# Focus\n",
    "The focus of this dataset are movies created beginning in year 2000 to 2022."
   ]
  },
  {
   "cell_type": "code",
   "execution_count": 16,
   "id": "08c08467",
   "metadata": {},
   "outputs": [],
   "source": [
    "basics = basics[(basics['startYear']>='2000') & (basics['startYear']<'2022')]"
   ]
  },
  {
   "cell_type": "code",
   "execution_count": 17,
   "id": "042bc383",
   "metadata": {},
   "outputs": [],
   "source": [
    "# Exclude movies that are included in the documentary category.\n",
    "#Check order in LP\n",
    "is_documentary = basics['genres'].str.contains('documentary',case=False)\n",
    "basics = basics[~is_documentary]"
   ]
  },
  {
   "cell_type": "code",
   "execution_count": 18,
   "id": "4a38fb1f",
   "metadata": {},
   "outputs": [
    {
     "name": "stdout",
     "output_type": "stream",
     "text": [
      "<class 'pandas.core.frame.DataFrame'>\n",
      "Int64Index: 138608 entries, 34803 to 9924910\n",
      "Data columns (total 9 columns):\n",
      " #   Column          Non-Null Count   Dtype \n",
      "---  ------          --------------   ----- \n",
      " 0   tconst          138608 non-null  object\n",
      " 1   titleType       138608 non-null  object\n",
      " 2   primaryTitle    138608 non-null  object\n",
      " 3   originalTitle   138608 non-null  object\n",
      " 4   isAdult         138608 non-null  object\n",
      " 5   startYear       138608 non-null  object\n",
      " 6   endYear         0 non-null       object\n",
      " 7   runtimeMinutes  138608 non-null  object\n",
      " 8   genres          138608 non-null  object\n",
      "dtypes: object(9)\n",
      "memory usage: 10.6+ MB\n"
     ]
    }
   ],
   "source": [
    "basics.info()"
   ]
  },
  {
   "cell_type": "markdown",
   "id": "7905ef41",
   "metadata": {},
   "source": [
    "# The Akas Database from the IMDB webside.\n",
    "A section of this database is shown below to illustrate the names of the columns and rows within the database."
   ]
  },
  {
   "cell_type": "markdown",
   "id": "6879b46b",
   "metadata": {},
   "source": [
    "# Value Counts\n",
    "The value counts of the region is listed below."
   ]
  },
  {
   "cell_type": "code",
   "execution_count": 19,
   "id": "1902fc9c",
   "metadata": {},
   "outputs": [
    {
     "data": {
      "text/html": [
       "<div>\n",
       "<style scoped>\n",
       "    .dataframe tbody tr th:only-of-type {\n",
       "        vertical-align: middle;\n",
       "    }\n",
       "\n",
       "    .dataframe tbody tr th {\n",
       "        vertical-align: top;\n",
       "    }\n",
       "\n",
       "    .dataframe thead th {\n",
       "        text-align: right;\n",
       "    }\n",
       "</style>\n",
       "<table border=\"1\" class=\"dataframe\">\n",
       "  <thead>\n",
       "    <tr style=\"text-align: right;\">\n",
       "      <th></th>\n",
       "      <th>titleId</th>\n",
       "      <th>ordering</th>\n",
       "      <th>title</th>\n",
       "      <th>region</th>\n",
       "      <th>language</th>\n",
       "      <th>types</th>\n",
       "      <th>attributes</th>\n",
       "      <th>isOriginalTitle</th>\n",
       "    </tr>\n",
       "  </thead>\n",
       "  <tbody>\n",
       "    <tr>\n",
       "      <th>0</th>\n",
       "      <td>tt0000001</td>\n",
       "      <td>1</td>\n",
       "      <td>Карменсіта</td>\n",
       "      <td>UA</td>\n",
       "      <td>\\N</td>\n",
       "      <td>imdbDisplay</td>\n",
       "      <td>\\N</td>\n",
       "      <td>0</td>\n",
       "    </tr>\n",
       "    <tr>\n",
       "      <th>1</th>\n",
       "      <td>tt0000001</td>\n",
       "      <td>2</td>\n",
       "      <td>Carmencita</td>\n",
       "      <td>DE</td>\n",
       "      <td>\\N</td>\n",
       "      <td>\\N</td>\n",
       "      <td>literal title</td>\n",
       "      <td>0</td>\n",
       "    </tr>\n",
       "    <tr>\n",
       "      <th>2</th>\n",
       "      <td>tt0000001</td>\n",
       "      <td>3</td>\n",
       "      <td>Carmencita - spanyol tánc</td>\n",
       "      <td>HU</td>\n",
       "      <td>\\N</td>\n",
       "      <td>imdbDisplay</td>\n",
       "      <td>\\N</td>\n",
       "      <td>0</td>\n",
       "    </tr>\n",
       "    <tr>\n",
       "      <th>3</th>\n",
       "      <td>tt0000001</td>\n",
       "      <td>4</td>\n",
       "      <td>Καρμενσίτα</td>\n",
       "      <td>GR</td>\n",
       "      <td>\\N</td>\n",
       "      <td>imdbDisplay</td>\n",
       "      <td>\\N</td>\n",
       "      <td>0</td>\n",
       "    </tr>\n",
       "    <tr>\n",
       "      <th>4</th>\n",
       "      <td>tt0000001</td>\n",
       "      <td>5</td>\n",
       "      <td>Карменсита</td>\n",
       "      <td>RU</td>\n",
       "      <td>\\N</td>\n",
       "      <td>imdbDisplay</td>\n",
       "      <td>\\N</td>\n",
       "      <td>0</td>\n",
       "    </tr>\n",
       "  </tbody>\n",
       "</table>\n",
       "</div>"
      ],
      "text/plain": [
       "     titleId  ordering                      title region language  \\\n",
       "0  tt0000001         1                 Карменсіта     UA       \\N   \n",
       "1  tt0000001         2                 Carmencita     DE       \\N   \n",
       "2  tt0000001         3  Carmencita - spanyol tánc     HU       \\N   \n",
       "3  tt0000001         4                 Καρμενσίτα     GR       \\N   \n",
       "4  tt0000001         5                 Карменсита     RU       \\N   \n",
       "\n",
       "         types     attributes isOriginalTitle  \n",
       "0  imdbDisplay             \\N               0  \n",
       "1           \\N  literal title               0  \n",
       "2  imdbDisplay             \\N               0  \n",
       "3  imdbDisplay             \\N               0  \n",
       "4  imdbDisplay             \\N               0  "
      ]
     },
     "execution_count": 19,
     "metadata": {},
     "output_type": "execute_result"
    }
   ],
   "source": [
    "akas=\"https://datasets.imdbws.com/title.akas.tsv.gz\"\n",
    "akas = pd.read_csv(akas, sep='\\t', low_memory=False)\n",
    "akas.head()"
   ]
  },
  {
   "cell_type": "code",
   "execution_count": 20,
   "id": "d259753f",
   "metadata": {
    "scrolled": true
   },
   "outputs": [
    {
     "data": {
      "text/plain": [
       "DE    4338777\n",
       "FR    4334263\n",
       "JP    4332470\n",
       "IN    4274356\n",
       "ES    4253972\n",
       "       ...   \n",
       "FM          2\n",
       "TV          1\n",
       "PW          1\n",
       "NR          1\n",
       "NU          1\n",
       "Name: region, Length: 248, dtype: int64"
      ]
     },
     "execution_count": 20,
     "metadata": {},
     "output_type": "execute_result"
    }
   ],
   "source": [
    "akas['region'].value_counts()"
   ]
  },
  {
   "cell_type": "markdown",
   "id": "7d3489f8",
   "metadata": {},
   "source": [
    "#  Replace\n",
    "Those were taken care of and replaced so that the data would be used correctly in the analysis."
   ]
  },
  {
   "cell_type": "code",
   "execution_count": 21,
   "id": "01dd4bb4",
   "metadata": {},
   "outputs": [
    {
     "data": {
      "text/html": [
       "<div>\n",
       "<style scoped>\n",
       "    .dataframe tbody tr th:only-of-type {\n",
       "        vertical-align: middle;\n",
       "    }\n",
       "\n",
       "    .dataframe tbody tr th {\n",
       "        vertical-align: top;\n",
       "    }\n",
       "\n",
       "    .dataframe thead th {\n",
       "        text-align: right;\n",
       "    }\n",
       "</style>\n",
       "<table border=\"1\" class=\"dataframe\">\n",
       "  <thead>\n",
       "    <tr style=\"text-align: right;\">\n",
       "      <th></th>\n",
       "      <th>titleId</th>\n",
       "      <th>ordering</th>\n",
       "      <th>title</th>\n",
       "      <th>region</th>\n",
       "      <th>language</th>\n",
       "      <th>types</th>\n",
       "      <th>attributes</th>\n",
       "      <th>isOriginalTitle</th>\n",
       "    </tr>\n",
       "  </thead>\n",
       "  <tbody>\n",
       "    <tr>\n",
       "      <th>0</th>\n",
       "      <td>tt0000001</td>\n",
       "      <td>1</td>\n",
       "      <td>Карменсіта</td>\n",
       "      <td>UA</td>\n",
       "      <td>NaN</td>\n",
       "      <td>imdbDisplay</td>\n",
       "      <td>NaN</td>\n",
       "      <td>0</td>\n",
       "    </tr>\n",
       "    <tr>\n",
       "      <th>1</th>\n",
       "      <td>tt0000001</td>\n",
       "      <td>2</td>\n",
       "      <td>Carmencita</td>\n",
       "      <td>DE</td>\n",
       "      <td>NaN</td>\n",
       "      <td>NaN</td>\n",
       "      <td>literal title</td>\n",
       "      <td>0</td>\n",
       "    </tr>\n",
       "    <tr>\n",
       "      <th>2</th>\n",
       "      <td>tt0000001</td>\n",
       "      <td>3</td>\n",
       "      <td>Carmencita - spanyol tánc</td>\n",
       "      <td>HU</td>\n",
       "      <td>NaN</td>\n",
       "      <td>imdbDisplay</td>\n",
       "      <td>NaN</td>\n",
       "      <td>0</td>\n",
       "    </tr>\n",
       "    <tr>\n",
       "      <th>3</th>\n",
       "      <td>tt0000001</td>\n",
       "      <td>4</td>\n",
       "      <td>Καρμενσίτα</td>\n",
       "      <td>GR</td>\n",
       "      <td>NaN</td>\n",
       "      <td>imdbDisplay</td>\n",
       "      <td>NaN</td>\n",
       "      <td>0</td>\n",
       "    </tr>\n",
       "    <tr>\n",
       "      <th>4</th>\n",
       "      <td>tt0000001</td>\n",
       "      <td>5</td>\n",
       "      <td>Карменсита</td>\n",
       "      <td>RU</td>\n",
       "      <td>NaN</td>\n",
       "      <td>imdbDisplay</td>\n",
       "      <td>NaN</td>\n",
       "      <td>0</td>\n",
       "    </tr>\n",
       "    <tr>\n",
       "      <th>...</th>\n",
       "      <td>...</td>\n",
       "      <td>...</td>\n",
       "      <td>...</td>\n",
       "      <td>...</td>\n",
       "      <td>...</td>\n",
       "      <td>...</td>\n",
       "      <td>...</td>\n",
       "      <td>...</td>\n",
       "    </tr>\n",
       "    <tr>\n",
       "      <th>36208232</th>\n",
       "      <td>tt9916852</td>\n",
       "      <td>5</td>\n",
       "      <td>Episódio #3.20</td>\n",
       "      <td>PT</td>\n",
       "      <td>pt</td>\n",
       "      <td>NaN</td>\n",
       "      <td>NaN</td>\n",
       "      <td>0</td>\n",
       "    </tr>\n",
       "    <tr>\n",
       "      <th>36208233</th>\n",
       "      <td>tt9916852</td>\n",
       "      <td>6</td>\n",
       "      <td>Episodio #3.20</td>\n",
       "      <td>IT</td>\n",
       "      <td>it</td>\n",
       "      <td>NaN</td>\n",
       "      <td>NaN</td>\n",
       "      <td>0</td>\n",
       "    </tr>\n",
       "    <tr>\n",
       "      <th>36208234</th>\n",
       "      <td>tt9916852</td>\n",
       "      <td>7</td>\n",
       "      <td>एपिसोड #3.20</td>\n",
       "      <td>IN</td>\n",
       "      <td>hi</td>\n",
       "      <td>NaN</td>\n",
       "      <td>NaN</td>\n",
       "      <td>0</td>\n",
       "    </tr>\n",
       "    <tr>\n",
       "      <th>36208235</th>\n",
       "      <td>tt9916856</td>\n",
       "      <td>1</td>\n",
       "      <td>The Wind</td>\n",
       "      <td>DE</td>\n",
       "      <td>NaN</td>\n",
       "      <td>imdbDisplay</td>\n",
       "      <td>NaN</td>\n",
       "      <td>0</td>\n",
       "    </tr>\n",
       "    <tr>\n",
       "      <th>36208236</th>\n",
       "      <td>tt9916856</td>\n",
       "      <td>2</td>\n",
       "      <td>The Wind</td>\n",
       "      <td>NaN</td>\n",
       "      <td>NaN</td>\n",
       "      <td>original</td>\n",
       "      <td>NaN</td>\n",
       "      <td>1</td>\n",
       "    </tr>\n",
       "  </tbody>\n",
       "</table>\n",
       "<p>36208237 rows × 8 columns</p>\n",
       "</div>"
      ],
      "text/plain": [
       "            titleId  ordering                      title region language  \\\n",
       "0         tt0000001         1                 Карменсіта     UA      NaN   \n",
       "1         tt0000001         2                 Carmencita     DE      NaN   \n",
       "2         tt0000001         3  Carmencita - spanyol tánc     HU      NaN   \n",
       "3         tt0000001         4                 Καρμενσίτα     GR      NaN   \n",
       "4         tt0000001         5                 Карменсита     RU      NaN   \n",
       "...             ...       ...                        ...    ...      ...   \n",
       "36208232  tt9916852         5             Episódio #3.20     PT       pt   \n",
       "36208233  tt9916852         6             Episodio #3.20     IT       it   \n",
       "36208234  tt9916852         7               एपिसोड #3.20     IN       hi   \n",
       "36208235  tt9916856         1                   The Wind     DE      NaN   \n",
       "36208236  tt9916856         2                   The Wind    NaN      NaN   \n",
       "\n",
       "                types     attributes isOriginalTitle  \n",
       "0         imdbDisplay            NaN               0  \n",
       "1                 NaN  literal title               0  \n",
       "2         imdbDisplay            NaN               0  \n",
       "3         imdbDisplay            NaN               0  \n",
       "4         imdbDisplay            NaN               0  \n",
       "...               ...            ...             ...  \n",
       "36208232          NaN            NaN               0  \n",
       "36208233          NaN            NaN               0  \n",
       "36208234          NaN            NaN               0  \n",
       "36208235  imdbDisplay            NaN               0  \n",
       "36208236     original            NaN               1  \n",
       "\n",
       "[36208237 rows x 8 columns]"
      ]
     },
     "execution_count": 21,
     "metadata": {},
     "output_type": "execute_result"
    }
   ],
   "source": [
    "akas.replace({'\\\\N':np.nan})"
   ]
  },
  {
   "cell_type": "markdown",
   "id": "7fe8a47b",
   "metadata": {},
   "source": [
    "# Focus\n",
    "The focus of this dataset is the region of the database."
   ]
  },
  {
   "cell_type": "code",
   "execution_count": 22,
   "id": "e58677c7",
   "metadata": {},
   "outputs": [],
   "source": [
    "akas = akas[(akas['region'] == 'US')]"
   ]
  },
  {
   "cell_type": "code",
   "execution_count": 23,
   "id": "64d0dc6c",
   "metadata": {},
   "outputs": [],
   "source": [
    "# Filter the basics table down to only include the US by using the filter akas dataframe\n",
    "keepers = basics['tconst'].isin(akas['titleId'])\n",
    "basics =  basics[keepers]"
   ]
  },
  {
   "cell_type": "code",
   "execution_count": 24,
   "id": "5de98c70",
   "metadata": {},
   "outputs": [
    {
     "data": {
      "text/plain": [
       "US    1444607\n",
       "Name: region, dtype: int64"
      ]
     },
     "execution_count": 24,
     "metadata": {},
     "output_type": "execute_result"
    }
   ],
   "source": [
    "akas['region'].value_counts()"
   ]
  },
  {
   "cell_type": "code",
   "execution_count": 25,
   "id": "8c256d07",
   "metadata": {},
   "outputs": [
    {
     "name": "stdout",
     "output_type": "stream",
     "text": [
      "<class 'pandas.core.frame.DataFrame'>\n",
      "Int64Index: 1444607 entries, 5 to 36207981\n",
      "Data columns (total 8 columns):\n",
      " #   Column           Non-Null Count    Dtype \n",
      "---  ------           --------------    ----- \n",
      " 0   titleId          1444607 non-null  object\n",
      " 1   ordering         1444607 non-null  int64 \n",
      " 2   title            1444607 non-null  object\n",
      " 3   region           1444607 non-null  object\n",
      " 4   language         1444607 non-null  object\n",
      " 5   types            1444607 non-null  object\n",
      " 6   attributes       1444607 non-null  object\n",
      " 7   isOriginalTitle  1444607 non-null  object\n",
      "dtypes: int64(1), object(7)\n",
      "memory usage: 99.2+ MB\n"
     ]
    }
   ],
   "source": [
    "akas.info()"
   ]
  },
  {
   "cell_type": "markdown",
   "id": "7f683750",
   "metadata": {},
   "source": [
    "# The Ratings Database from the IMDB webside.\n",
    "A section of this database is shown below to illustrate the names of the columns and rows within the database."
   ]
  },
  {
   "cell_type": "code",
   "execution_count": 26,
   "id": "7796ee46",
   "metadata": {},
   "outputs": [
    {
     "data": {
      "text/html": [
       "<div>\n",
       "<style scoped>\n",
       "    .dataframe tbody tr th:only-of-type {\n",
       "        vertical-align: middle;\n",
       "    }\n",
       "\n",
       "    .dataframe tbody tr th {\n",
       "        vertical-align: top;\n",
       "    }\n",
       "\n",
       "    .dataframe thead th {\n",
       "        text-align: right;\n",
       "    }\n",
       "</style>\n",
       "<table border=\"1\" class=\"dataframe\">\n",
       "  <thead>\n",
       "    <tr style=\"text-align: right;\">\n",
       "      <th></th>\n",
       "      <th>tconst</th>\n",
       "      <th>averageRating</th>\n",
       "      <th>numVotes</th>\n",
       "    </tr>\n",
       "  </thead>\n",
       "  <tbody>\n",
       "    <tr>\n",
       "      <th>0</th>\n",
       "      <td>tt0000001</td>\n",
       "      <td>5.7</td>\n",
       "      <td>1979</td>\n",
       "    </tr>\n",
       "    <tr>\n",
       "      <th>1</th>\n",
       "      <td>tt0000002</td>\n",
       "      <td>5.8</td>\n",
       "      <td>265</td>\n",
       "    </tr>\n",
       "    <tr>\n",
       "      <th>2</th>\n",
       "      <td>tt0000003</td>\n",
       "      <td>6.5</td>\n",
       "      <td>1832</td>\n",
       "    </tr>\n",
       "    <tr>\n",
       "      <th>3</th>\n",
       "      <td>tt0000004</td>\n",
       "      <td>5.6</td>\n",
       "      <td>179</td>\n",
       "    </tr>\n",
       "    <tr>\n",
       "      <th>4</th>\n",
       "      <td>tt0000005</td>\n",
       "      <td>6.2</td>\n",
       "      <td>2621</td>\n",
       "    </tr>\n",
       "  </tbody>\n",
       "</table>\n",
       "</div>"
      ],
      "text/plain": [
       "      tconst  averageRating  numVotes\n",
       "0  tt0000001            5.7      1979\n",
       "1  tt0000002            5.8       265\n",
       "2  tt0000003            6.5      1832\n",
       "3  tt0000004            5.6       179\n",
       "4  tt0000005            6.2      2621"
      ]
     },
     "execution_count": 26,
     "metadata": {},
     "output_type": "execute_result"
    }
   ],
   "source": [
    "ratings=\"https://datasets.imdbws.com/title.ratings.tsv.gz\"\n",
    "ratings = pd.read_csv(ratings, sep='\\t', low_memory=False)\n",
    "ratings.head()"
   ]
  },
  {
   "cell_type": "markdown",
   "id": "b243455d",
   "metadata": {},
   "source": [
    "#  Replace\n",
    "Those were taken care of and replaced so that the data would be used correctly in the analysis."
   ]
  },
  {
   "cell_type": "code",
   "execution_count": 27,
   "id": "9c7e35cb",
   "metadata": {
    "scrolled": true
   },
   "outputs": [
    {
     "data": {
      "text/html": [
       "<div>\n",
       "<style scoped>\n",
       "    .dataframe tbody tr th:only-of-type {\n",
       "        vertical-align: middle;\n",
       "    }\n",
       "\n",
       "    .dataframe tbody tr th {\n",
       "        vertical-align: top;\n",
       "    }\n",
       "\n",
       "    .dataframe thead th {\n",
       "        text-align: right;\n",
       "    }\n",
       "</style>\n",
       "<table border=\"1\" class=\"dataframe\">\n",
       "  <thead>\n",
       "    <tr style=\"text-align: right;\">\n",
       "      <th></th>\n",
       "      <th>tconst</th>\n",
       "      <th>averageRating</th>\n",
       "      <th>numVotes</th>\n",
       "    </tr>\n",
       "  </thead>\n",
       "  <tbody>\n",
       "    <tr>\n",
       "      <th>0</th>\n",
       "      <td>tt0000001</td>\n",
       "      <td>5.7</td>\n",
       "      <td>1979</td>\n",
       "    </tr>\n",
       "    <tr>\n",
       "      <th>1</th>\n",
       "      <td>tt0000002</td>\n",
       "      <td>5.8</td>\n",
       "      <td>265</td>\n",
       "    </tr>\n",
       "    <tr>\n",
       "      <th>2</th>\n",
       "      <td>tt0000003</td>\n",
       "      <td>6.5</td>\n",
       "      <td>1832</td>\n",
       "    </tr>\n",
       "    <tr>\n",
       "      <th>3</th>\n",
       "      <td>tt0000004</td>\n",
       "      <td>5.6</td>\n",
       "      <td>179</td>\n",
       "    </tr>\n",
       "    <tr>\n",
       "      <th>4</th>\n",
       "      <td>tt0000005</td>\n",
       "      <td>6.2</td>\n",
       "      <td>2621</td>\n",
       "    </tr>\n",
       "    <tr>\n",
       "      <th>...</th>\n",
       "      <td>...</td>\n",
       "      <td>...</td>\n",
       "      <td>...</td>\n",
       "    </tr>\n",
       "    <tr>\n",
       "      <th>1318731</th>\n",
       "      <td>tt9916730</td>\n",
       "      <td>8.3</td>\n",
       "      <td>10</td>\n",
       "    </tr>\n",
       "    <tr>\n",
       "      <th>1318732</th>\n",
       "      <td>tt9916766</td>\n",
       "      <td>7.0</td>\n",
       "      <td>21</td>\n",
       "    </tr>\n",
       "    <tr>\n",
       "      <th>1318733</th>\n",
       "      <td>tt9916778</td>\n",
       "      <td>7.2</td>\n",
       "      <td>36</td>\n",
       "    </tr>\n",
       "    <tr>\n",
       "      <th>1318734</th>\n",
       "      <td>tt9916840</td>\n",
       "      <td>7.5</td>\n",
       "      <td>7</td>\n",
       "    </tr>\n",
       "    <tr>\n",
       "      <th>1318735</th>\n",
       "      <td>tt9916880</td>\n",
       "      <td>7.0</td>\n",
       "      <td>7</td>\n",
       "    </tr>\n",
       "  </tbody>\n",
       "</table>\n",
       "<p>1318736 rows × 3 columns</p>\n",
       "</div>"
      ],
      "text/plain": [
       "            tconst  averageRating  numVotes\n",
       "0        tt0000001            5.7      1979\n",
       "1        tt0000002            5.8       265\n",
       "2        tt0000003            6.5      1832\n",
       "3        tt0000004            5.6       179\n",
       "4        tt0000005            6.2      2621\n",
       "...            ...            ...       ...\n",
       "1318731  tt9916730            8.3        10\n",
       "1318732  tt9916766            7.0        21\n",
       "1318733  tt9916778            7.2        36\n",
       "1318734  tt9916840            7.5         7\n",
       "1318735  tt9916880            7.0         7\n",
       "\n",
       "[1318736 rows x 3 columns]"
      ]
     },
     "execution_count": 27,
     "metadata": {},
     "output_type": "execute_result"
    }
   ],
   "source": [
    "ratings.replace({'\\\\N':np.nan})"
   ]
  },
  {
   "cell_type": "markdown",
   "id": "fa872def",
   "metadata": {},
   "source": [
    "# Focus\n",
    "The focus of this dataset is the title ID of the database."
   ]
  },
  {
   "cell_type": "code",
   "execution_count": 28,
   "id": "fdcf8b77",
   "metadata": {
    "scrolled": true
   },
   "outputs": [],
   "source": [
    "keepers = ratings['tconst'].isin(akas['titleId'])\n",
    "ratings = ratings[keepers]"
   ]
  },
  {
   "cell_type": "markdown",
   "id": "aa0c3e2e",
   "metadata": {},
   "source": [
    "# New Table\n",
    "The following boxes takes all the individual tables and puts them into one table that is used for the analysis.  Because the missing values have already been taken care of above, we know they are not an consideration now.  This dataset shows the movies that are full length movies, fictional movies, movies released from 2000 to 2022, and were released only in the United States."
   ]
  },
  {
   "cell_type": "code",
   "execution_count": 29,
   "id": "e0c9d0d0",
   "metadata": {},
   "outputs": [
    {
     "data": {
      "text/plain": [
       "['.ipynb_checkpoints']"
      ]
     },
     "execution_count": 29,
     "metadata": {},
     "output_type": "execute_result"
    }
   ],
   "source": [
    "# example making new folder with os\n",
    "import os\n",
    "os.makedirs('Data/',exist_ok=True) \n",
    "# Confirm folder created\n",
    "os.listdir(\"Data/\")"
   ]
  },
  {
   "cell_type": "code",
   "execution_count": 30,
   "id": "1dbbadfa",
   "metadata": {},
   "outputs": [
    {
     "data": {
      "text/plain": [
       "['title_basics.csv.gz']"
      ]
     },
     "execution_count": 30,
     "metadata": {},
     "output_type": "execute_result"
    }
   ],
   "source": [
    "['title_basics.csv.gz']"
   ]
  },
  {
   "cell_type": "code",
   "execution_count": 34,
   "id": "6aabdbc7",
   "metadata": {},
   "outputs": [],
   "source": [
    "# Open saved file and preview again\n",
    "#basics = pd.read_csv(\"Data/title_basics.csv.gz\", low_memory = False)\n",
    "#basics.head()"
   ]
  },
  {
   "cell_type": "code",
   "execution_count": 35,
   "id": "ac9c7692",
   "metadata": {},
   "outputs": [
    {
     "name": "stdout",
     "output_type": "stream",
     "text": [
      "<class 'pandas.core.frame.DataFrame'>\n",
      "Int64Index: 501008 entries, 0 to 1318711\n",
      "Data columns (total 3 columns):\n",
      " #   Column         Non-Null Count   Dtype  \n",
      "---  ------         --------------   -----  \n",
      " 0   tconst         501008 non-null  object \n",
      " 1   averageRating  501008 non-null  float64\n",
      " 2   numVotes       501008 non-null  int64  \n",
      "dtypes: float64(1), int64(1), object(1)\n",
      "memory usage: 15.3+ MB\n"
     ]
    }
   ],
   "source": [
    "ratings.info()"
   ]
  },
  {
   "cell_type": "code",
   "execution_count": 36,
   "id": "3f8763e8",
   "metadata": {},
   "outputs": [],
   "source": [
    "## Save current dataframe to file.\n",
    "basics.to_csv(\"Data/title_basics.csv.gz\",compression='gzip',index=False)"
   ]
  },
  {
   "cell_type": "code",
   "execution_count": 37,
   "id": "8feead40",
   "metadata": {},
   "outputs": [
    {
     "name": "stdout",
     "output_type": "stream",
     "text": [
      "<class 'pandas.core.frame.DataFrame'>\n",
      "RangeIndex: 81762 entries, 0 to 81761\n",
      "Data columns (total 9 columns):\n",
      " #   Column          Non-Null Count  Dtype  \n",
      "---  ------          --------------  -----  \n",
      " 0   tconst          81762 non-null  object \n",
      " 1   titleType       81762 non-null  object \n",
      " 2   primaryTitle    81762 non-null  object \n",
      " 3   originalTitle   81762 non-null  object \n",
      " 4   isAdult         81762 non-null  int64  \n",
      " 5   startYear       81762 non-null  int64  \n",
      " 6   endYear         0 non-null      float64\n",
      " 7   runtimeMinutes  81762 non-null  int64  \n",
      " 8   genres          81762 non-null  object \n",
      "dtypes: float64(1), int64(3), object(5)\n",
      "memory usage: 5.6+ MB\n"
     ]
    }
   ],
   "source": [
    "basics.info()"
   ]
  },
  {
   "cell_type": "code",
   "execution_count": 38,
   "id": "68a707fb",
   "metadata": {},
   "outputs": [],
   "source": [
    "## Save current dataframe to file.\n",
    "akas.to_csv(\"Data/title_akas.csv.gz\",compression='gzip',index=False)"
   ]
  },
  {
   "cell_type": "code",
   "execution_count": 39,
   "id": "bda70901",
   "metadata": {},
   "outputs": [],
   "source": [
    "## Save current dataframe to file.\n",
    "ratings.to_csv(\"Data/title_ratings.csv.gz\",compression='gzip',index=False)"
   ]
  },
  {
   "cell_type": "code",
   "execution_count": 40,
   "id": "d7b566da",
   "metadata": {},
   "outputs": [
    {
     "name": "stdout",
     "output_type": "stream",
     "text": [
      "<class 'pandas.core.frame.DataFrame'>\n",
      "Int64Index: 1444607 entries, 5 to 36207981\n",
      "Data columns (total 8 columns):\n",
      " #   Column           Non-Null Count    Dtype \n",
      "---  ------           --------------    ----- \n",
      " 0   titleId          1444607 non-null  object\n",
      " 1   ordering         1444607 non-null  int64 \n",
      " 2   title            1444607 non-null  object\n",
      " 3   region           1444607 non-null  object\n",
      " 4   language         1444607 non-null  object\n",
      " 5   types            1444607 non-null  object\n",
      " 6   attributes       1444607 non-null  object\n",
      " 7   isOriginalTitle  1444607 non-null  object\n",
      "dtypes: int64(1), object(7)\n",
      "memory usage: 99.2+ MB\n"
     ]
    }
   ],
   "source": [
    "akas.info()"
   ]
  },
  {
   "cell_type": "code",
   "execution_count": 41,
   "id": "e908a502",
   "metadata": {},
   "outputs": [
    {
     "name": "stdout",
     "output_type": "stream",
     "text": [
      "<class 'pandas.core.frame.DataFrame'>\n",
      "Int64Index: 501008 entries, 0 to 1318711\n",
      "Data columns (total 3 columns):\n",
      " #   Column         Non-Null Count   Dtype  \n",
      "---  ------         --------------   -----  \n",
      " 0   tconst         501008 non-null  object \n",
      " 1   averageRating  501008 non-null  float64\n",
      " 2   numVotes       501008 non-null  int64  \n",
      "dtypes: float64(1), int64(1), object(1)\n",
      "memory usage: 15.3+ MB\n"
     ]
    }
   ],
   "source": [
    "ratings.info()"
   ]
  },
  {
   "cell_type": "code",
   "execution_count": null,
   "id": "483f9de9",
   "metadata": {},
   "outputs": [],
   "source": []
  }
 ],
 "metadata": {
  "kernelspec": {
   "display_name": "Python (dojo-env)",
   "language": "python",
   "name": "dojo-env"
  },
  "language_info": {
   "codemirror_mode": {
    "name": "ipython",
    "version": 3
   },
   "file_extension": ".py",
   "mimetype": "text/x-python",
   "name": "python",
   "nbconvert_exporter": "python",
   "pygments_lexer": "ipython3",
   "version": "3.9.15"
  },
  "toc": {
   "base_numbering": 1,
   "nav_menu": {},
   "number_sections": true,
   "sideBar": true,
   "skip_h1_title": false,
   "title_cell": "Table of Contents",
   "title_sidebar": "Contents",
   "toc_cell": false,
   "toc_position": {},
   "toc_section_display": true,
   "toc_window_display": false
  }
 },
 "nbformat": 4,
 "nbformat_minor": 5
}
